{
  "nbformat": 4,
  "nbformat_minor": 0,
  "metadata": {
    "accelerator": "GPU",
    "colab": {
      "provenance": [],
      "machine_shape": "hm",
      "include_colab_link": true
    },
    "kernelspec": {
      "display_name": "Python 3",
      "name": "python3"
    },
    "language_info": {
      "name": "python"
    }
  },
  "cells": [
    {
      "cell_type": "markdown",
      "metadata": {
        "id": "view-in-github",
        "colab_type": "text"
      },
      "source": [
        "<a href=\"https://colab.research.google.com/github/XiangLi368/SkinAndEyeAIModel/blob/main/eye_damage_test.ipynb\" target=\"_parent\"><img src=\"https://colab.research.google.com/assets/colab-badge.svg\" alt=\"Open In Colab\"/></a>"
      ]
    },
    {
      "cell_type": "markdown",
      "metadata": {
        "id": "_kgbRyPh7pm8"
      },
      "source": [
        "# Eye Damage Detection Model Test"
      ]
    },
    {
      "cell_type": "code",
      "metadata": {
        "colab": {
          "base_uri": "https://localhost:8080/"
        },
        "id": "rsdi_yMnkGlB",
        "outputId": "ce2f6f85-4de8-43e6-8d67-365da58a3105"
      },
      "source": [
        "from google.colab import drive\n",
        "drive.mount('/content/drive')"
      ],
      "execution_count": null,
      "outputs": [
        {
          "output_type": "stream",
          "name": "stdout",
          "text": [
            "Mounted at /content/drive\n"
          ]
        }
      ]
    },
    {
      "cell_type": "markdown",
      "metadata": {
        "id": "cozGiZAv9IY6"
      },
      "source": [
        "## Enabling and testing the TPU"
      ]
    },
    {
      "cell_type": "code",
      "metadata": {
        "id": "QoY-Mv438TvV"
      },
      "source": [
        "# %tensorflow_version 2.x\n",
        "# import tensorflow as tf\n",
        "# print(\"Tensorflow version \" + tf.__version__)\n",
        "\n",
        "# try:\n",
        "#   tpu = tf.distribute.cluster_resolver.TPUClusterResolver()  # TPU detection\n",
        "#   print('Running on TPU ', tpu.cluster_spec().as_dict()['worker'])\n",
        "# except ValueError:\n",
        "#   raise BaseException('ERROR: Not connected to a TPU runtime; please see the previous cell in this notebook for instructions!')\n",
        "\n",
        "# tf.config.experimental_connect_to_cluster(tpu)\n",
        "# tf.tpu.experimental.initialize_tpu_system(tpu)\n",
        "# tpu_strategy = tf.distribute.experimental.TPUStrategy(tpu)"
      ],
      "execution_count": null,
      "outputs": []
    },
    {
      "cell_type": "markdown",
      "metadata": {
        "id": "WU0WRU6qkBxZ"
      },
      "source": [
        "## GPU"
      ]
    },
    {
      "cell_type": "code",
      "metadata": {
        "colab": {
          "base_uri": "https://localhost:8080/"
        },
        "id": "c-bRgkenkD4q",
        "outputId": "46e74b1d-4819-42c9-ff4c-b9f635929a7e"
      },
      "source": [
        "%tensorflow_version 2.x\n",
        "import tensorflow as tf\n",
        "device_name = tf.test.gpu_device_name()\n",
        "if device_name != '/device:GPU:0':\n",
        "  raise SystemError('GPU device not found')\n",
        "print('Found GPU at: {}'.format(device_name))"
      ],
      "execution_count": null,
      "outputs": [
        {
          "output_type": "stream",
          "name": "stdout",
          "text": [
            "Found GPU at: /device:GPU:0\n"
          ]
        }
      ]
    },
    {
      "cell_type": "code",
      "metadata": {
        "colab": {
          "base_uri": "https://localhost:8080/"
        },
        "id": "YrDJKN6VkIAG",
        "outputId": "c45c78d6-f9ab-40c0-dc45-a8b81c75d981"
      },
      "source": [
        "gpu_info = !nvidia-smi\n",
        "gpu_info = '\\n'.join(gpu_info)\n",
        "if gpu_info.find('failed') >= 0:\n",
        "  print('Not connected to a GPU')\n",
        "else:\n",
        "  print(gpu_info)"
      ],
      "execution_count": null,
      "outputs": [
        {
          "output_type": "stream",
          "name": "stdout",
          "text": [
            "Mon May 23 08:55:45 2022       \n",
            "+-----------------------------------------------------------------------------+\n",
            "| NVIDIA-SMI 460.32.03    Driver Version: 460.32.03    CUDA Version: 11.2     |\n",
            "|-------------------------------+----------------------+----------------------+\n",
            "| GPU  Name        Persistence-M| Bus-Id        Disp.A | Volatile Uncorr. ECC |\n",
            "| Fan  Temp  Perf  Pwr:Usage/Cap|         Memory-Usage | GPU-Util  Compute M. |\n",
            "|                               |                      |               MIG M. |\n",
            "|===============================+======================+======================|\n",
            "|   0  Tesla V100-SXM2...  Off  | 00000000:00:04.0 Off |                    0 |\n",
            "| N/A   34C    P0    38W / 300W |    471MiB / 16160MiB |      0%      Default |\n",
            "|                               |                      |                  N/A |\n",
            "+-------------------------------+----------------------+----------------------+\n",
            "                                                                               \n",
            "+-----------------------------------------------------------------------------+\n",
            "| Processes:                                                                  |\n",
            "|  GPU   GI   CI        PID   Type   Process name                  GPU Memory |\n",
            "|        ID   ID                                                   Usage      |\n",
            "|=============================================================================|\n",
            "+-----------------------------------------------------------------------------+\n"
          ]
        }
      ]
    },
    {
      "cell_type": "markdown",
      "metadata": {
        "id": "cglcCwaXj-cm"
      },
      "source": [
        "## import"
      ]
    },
    {
      "cell_type": "code",
      "metadata": {
        "id": "6mjXZIY_-D0z"
      },
      "source": [
        "import re\n",
        "import os, glob, cv2\n",
        "import numpy as np\n",
        "import pandas as pd\n",
        "import matplotlib.pyplot as plt\n",
        "from sklearn.model_selection import train_test_split\n",
        "import tensorflow as tf\n",
        "from tensorflow.keras.layers import *\n",
        "from tensorflow.keras import backend as K\n",
        "from tensorflow.keras.models import Sequential\n",
        "from tensorflow.keras.preprocessing.image import ImageDataGenerator\n",
        "from tensorflow.keras.utils import get_custom_objects\n",
        "from tqdm import tqdm"
      ],
      "execution_count": null,
      "outputs": []
    },
    {
      "cell_type": "markdown",
      "metadata": {
        "id": "OqDKAww__Jmu"
      },
      "source": [
        "## Set configurations and read metadata"
      ]
    },
    {
      "cell_type": "code",
      "metadata": {
        "id": "8FxQWg8wRq0K"
      },
      "source": [
        "#unzip file\n",
        "!unzip \"/content/drive/MyDrive/5703File/DataSet/ODIR-5K.zip\" -d \"/content\"\n",
        "!unzip \"/content/drive/MyDrive/5703File/DataSet/cataract.zip\" -d \"/content\"\n",
        "!unrar x -r \"/content/drive/MyDrive/DDR_dataset/*.rar\" \"/content\""
      ],
      "execution_count": null,
      "outputs": []
    },
    {
      "cell_type": "code",
      "metadata": {
        "id": "pbjvOfkzrKa1"
      },
      "source": [
        "# !unzip \"/content/drive/MyDrive/5703File/DataSet/DDR_dataset/DDR-dataset.zip.001.zip\" -d \"/content\""
      ],
      "execution_count": null,
      "outputs": []
    },
    {
      "cell_type": "code",
      "metadata": {
        "id": "-W8Xj4YdqYzo"
      },
      "source": [
        "# cataract dataset\n",
        "IMG_ROOT = '/content/dataset/'\n",
        "IMG_DIR = [IMG_ROOT+'1_normal',\n",
        "           IMG_ROOT+'2_cataract',\n",
        "           IMG_ROOT+'2_glaucoma',\n",
        "           IMG_ROOT+'3_retina_disease']\n",
        "\n",
        "# ocular-disease-recognition dataset\n",
        "OCU_IMG_ROOT = '/content/ODIR-5K/Training Images/'\n",
        "ocu_df = pd.read_csv('/content/ODIR-5K/full_df.csv')"
      ],
      "execution_count": null,
      "outputs": []
    },
    {
      "cell_type": "code",
      "metadata": {
        "id": "k5pcLKm8SekE"
      },
      "source": [
        "# restore the data\n"
      ],
      "execution_count": null,
      "outputs": []
    },
    {
      "cell_type": "markdown",
      "metadata": {
        "id": "EGMBw76wUDr7"
      },
      "source": [
        "### use PyDrive"
      ]
    },
    {
      "cell_type": "code",
      "metadata": {
        "id": "FFl-5mMRUKKW"
      },
      "source": [],
      "execution_count": null,
      "outputs": []
    },
    {
      "cell_type": "code",
      "metadata": {
        "id": "MfBgoevT3g8B"
      },
      "source": [
        "SEED = 42\n",
        "def seed_everything(seed):\n",
        "    np.random.seed(seed)\n",
        "    os.environ['PYTHONHASHSEED'] = str(seed)\n",
        "    tf.random.set_seed(seed)\n",
        "\n",
        "seed_everything(SEED)"
      ],
      "execution_count": null,
      "outputs": []
    },
    {
      "cell_type": "markdown",
      "metadata": {
        "id": "1FalIc9OfOV-"
      },
      "source": [
        "## Process Cataract dataset"
      ]
    },
    {
      "cell_type": "code",
      "metadata": {
        "id": "DuL97-Z9fB3V"
      },
      "source": [
        "cat_df = pd.DataFrame(0,\n",
        "                  columns=['paths',\n",
        "                           'disease'],\n",
        "                  index=range(601))\n",
        "\n",
        "filepaths = glob.glob(IMG_ROOT + '*/*')\n",
        "\n",
        "\n",
        "for i, filepath in enumerate(filepaths):\n",
        "    filepath = os.path.split(filepath)\n",
        "    cat_df.iloc[i, 0] = filepath[0] + '/' + filepath[1]\n",
        "\n",
        "    if filepath[0] == IMG_DIR[0]:    # normal\n",
        "        cat_df.iloc[i, 1] = 0\n",
        "    elif filepath[0] == IMG_DIR[1]:  # cataract\n",
        "        cat_df.iloc[i, 1] = 1\n",
        "    elif filepath[0] == IMG_DIR[2]:  # glaucoma\n",
        "        cat_df.iloc[i, 1] = 2\n",
        "    elif filepath[0] == IMG_DIR[3]:  # retine_disease\n",
        "        cat_df.iloc[i, 1] = 3\n",
        "\n",
        "# only sample normal and cataract and other disease\n",
        "cat_df = cat_df.query('0 <= disease < 2 or disease == 3')\n",
        "# cat_df = cat_df.query('disease == 3')\n",
        "cat_df\n",
        "\n",
        "# can"
      ],
      "execution_count": null,
      "outputs": []
    },
    {
      "cell_type": "code",
      "metadata": {
        "colab": {
          "base_uri": "https://localhost:8080/"
        },
        "id": "xNxe3emBgPoa",
        "outputId": "ed37d301-7d83-4b53-84cc-b41752760134"
      },
      "source": [
        "print('Number of normal(0) and cataract(1) and other_disease(3) images')\n",
        "print(cat_df['disease'].value_counts())"
      ],
      "execution_count": null,
      "outputs": [
        {
          "output_type": "stream",
          "name": "stdout",
          "text": [
            "Number of normal(0) and cataract(1) and other_disease(3) images\n",
            "0    300\n",
            "3    100\n",
            "1    100\n",
            "Name: disease, dtype: int64\n"
          ]
        }
      ]
    },
    {
      "cell_type": "code",
      "metadata": {
        "id": "ykqca2789Ht5"
      },
      "source": [],
      "execution_count": null,
      "outputs": []
    },
    {
      "cell_type": "markdown",
      "metadata": {
        "id": "J8Sk3t-ThsR_"
      },
      "source": [
        "## Process Ocular Disease Dataset"
      ]
    },
    {
      "cell_type": "code",
      "metadata": {
        "colab": {
          "base_uri": "https://localhost:8080/",
          "height": 354
        },
        "id": "V7reBChzhb5W",
        "outputId": "3b2ec5f1-9b46-4b42-cecf-7c90b313a5c9"
      },
      "source": [
        "ocu_df.head()\n",
        "# I only need filename and lables\n",
        "# N-normal-0, C-cataract-1, A-AMD-4, D,G,H,M,O-Others-3"
      ],
      "execution_count": null,
      "outputs": [
        {
          "output_type": "execute_result",
          "data": {
            "text/plain": [
              "   ID  Patient Age Patient Sex Left-Fundus Right-Fundus  \\\n",
              "0   0           69      Female  0_left.jpg  0_right.jpg   \n",
              "1   1           57        Male  1_left.jpg  1_right.jpg   \n",
              "2   2           42        Male  2_left.jpg  2_right.jpg   \n",
              "3   4           53        Male  4_left.jpg  4_right.jpg   \n",
              "4   5           50      Female  5_left.jpg  5_right.jpg   \n",
              "\n",
              "                            Left-Diagnostic Keywords  \\\n",
              "0                                           cataract   \n",
              "1                                      normal fundus   \n",
              "2  laser spot，moderate non proliferative retinopathy   \n",
              "3                        macular epiretinal membrane   \n",
              "4             moderate non proliferative retinopathy   \n",
              "\n",
              "                Right-Diagnostic Keywords  N  D  G  C  A  H  M  O  \\\n",
              "0                           normal fundus  0  0  0  1  0  0  0  0   \n",
              "1                           normal fundus  1  0  0  0  0  0  0  0   \n",
              "2  moderate non proliferative retinopathy  0  1  0  0  0  0  0  1   \n",
              "3       mild nonproliferative retinopathy  0  1  0  0  0  0  0  1   \n",
              "4  moderate non proliferative retinopathy  0  1  0  0  0  0  0  0   \n",
              "\n",
              "                                            filepath labels  \\\n",
              "0  ../input/ocular-disease-recognition-odir5k/ODI...  ['N']   \n",
              "1  ../input/ocular-disease-recognition-odir5k/ODI...  ['N']   \n",
              "2  ../input/ocular-disease-recognition-odir5k/ODI...  ['D']   \n",
              "3  ../input/ocular-disease-recognition-odir5k/ODI...  ['D']   \n",
              "4  ../input/ocular-disease-recognition-odir5k/ODI...  ['D']   \n",
              "\n",
              "                     target     filename  \n",
              "0  [1, 0, 0, 0, 0, 0, 0, 0]  0_right.jpg  \n",
              "1  [1, 0, 0, 0, 0, 0, 0, 0]  1_right.jpg  \n",
              "2  [0, 1, 0, 0, 0, 0, 0, 0]  2_right.jpg  \n",
              "3  [0, 1, 0, 0, 0, 0, 0, 0]  4_right.jpg  \n",
              "4  [0, 1, 0, 0, 0, 0, 0, 0]  5_right.jpg  "
            ],
            "text/html": [
              "\n",
              "  <div id=\"df-15f83456-397f-4b9d-ae3e-e1ab1144a949\">\n",
              "    <div class=\"colab-df-container\">\n",
              "      <div>\n",
              "<style scoped>\n",
              "    .dataframe tbody tr th:only-of-type {\n",
              "        vertical-align: middle;\n",
              "    }\n",
              "\n",
              "    .dataframe tbody tr th {\n",
              "        vertical-align: top;\n",
              "    }\n",
              "\n",
              "    .dataframe thead th {\n",
              "        text-align: right;\n",
              "    }\n",
              "</style>\n",
              "<table border=\"1\" class=\"dataframe\">\n",
              "  <thead>\n",
              "    <tr style=\"text-align: right;\">\n",
              "      <th></th>\n",
              "      <th>ID</th>\n",
              "      <th>Patient Age</th>\n",
              "      <th>Patient Sex</th>\n",
              "      <th>Left-Fundus</th>\n",
              "      <th>Right-Fundus</th>\n",
              "      <th>Left-Diagnostic Keywords</th>\n",
              "      <th>Right-Diagnostic Keywords</th>\n",
              "      <th>N</th>\n",
              "      <th>D</th>\n",
              "      <th>G</th>\n",
              "      <th>C</th>\n",
              "      <th>A</th>\n",
              "      <th>H</th>\n",
              "      <th>M</th>\n",
              "      <th>O</th>\n",
              "      <th>filepath</th>\n",
              "      <th>labels</th>\n",
              "      <th>target</th>\n",
              "      <th>filename</th>\n",
              "    </tr>\n",
              "  </thead>\n",
              "  <tbody>\n",
              "    <tr>\n",
              "      <th>0</th>\n",
              "      <td>0</td>\n",
              "      <td>69</td>\n",
              "      <td>Female</td>\n",
              "      <td>0_left.jpg</td>\n",
              "      <td>0_right.jpg</td>\n",
              "      <td>cataract</td>\n",
              "      <td>normal fundus</td>\n",
              "      <td>0</td>\n",
              "      <td>0</td>\n",
              "      <td>0</td>\n",
              "      <td>1</td>\n",
              "      <td>0</td>\n",
              "      <td>0</td>\n",
              "      <td>0</td>\n",
              "      <td>0</td>\n",
              "      <td>../input/ocular-disease-recognition-odir5k/ODI...</td>\n",
              "      <td>['N']</td>\n",
              "      <td>[1, 0, 0, 0, 0, 0, 0, 0]</td>\n",
              "      <td>0_right.jpg</td>\n",
              "    </tr>\n",
              "    <tr>\n",
              "      <th>1</th>\n",
              "      <td>1</td>\n",
              "      <td>57</td>\n",
              "      <td>Male</td>\n",
              "      <td>1_left.jpg</td>\n",
              "      <td>1_right.jpg</td>\n",
              "      <td>normal fundus</td>\n",
              "      <td>normal fundus</td>\n",
              "      <td>1</td>\n",
              "      <td>0</td>\n",
              "      <td>0</td>\n",
              "      <td>0</td>\n",
              "      <td>0</td>\n",
              "      <td>0</td>\n",
              "      <td>0</td>\n",
              "      <td>0</td>\n",
              "      <td>../input/ocular-disease-recognition-odir5k/ODI...</td>\n",
              "      <td>['N']</td>\n",
              "      <td>[1, 0, 0, 0, 0, 0, 0, 0]</td>\n",
              "      <td>1_right.jpg</td>\n",
              "    </tr>\n",
              "    <tr>\n",
              "      <th>2</th>\n",
              "      <td>2</td>\n",
              "      <td>42</td>\n",
              "      <td>Male</td>\n",
              "      <td>2_left.jpg</td>\n",
              "      <td>2_right.jpg</td>\n",
              "      <td>laser spot，moderate non proliferative retinopathy</td>\n",
              "      <td>moderate non proliferative retinopathy</td>\n",
              "      <td>0</td>\n",
              "      <td>1</td>\n",
              "      <td>0</td>\n",
              "      <td>0</td>\n",
              "      <td>0</td>\n",
              "      <td>0</td>\n",
              "      <td>0</td>\n",
              "      <td>1</td>\n",
              "      <td>../input/ocular-disease-recognition-odir5k/ODI...</td>\n",
              "      <td>['D']</td>\n",
              "      <td>[0, 1, 0, 0, 0, 0, 0, 0]</td>\n",
              "      <td>2_right.jpg</td>\n",
              "    </tr>\n",
              "    <tr>\n",
              "      <th>3</th>\n",
              "      <td>4</td>\n",
              "      <td>53</td>\n",
              "      <td>Male</td>\n",
              "      <td>4_left.jpg</td>\n",
              "      <td>4_right.jpg</td>\n",
              "      <td>macular epiretinal membrane</td>\n",
              "      <td>mild nonproliferative retinopathy</td>\n",
              "      <td>0</td>\n",
              "      <td>1</td>\n",
              "      <td>0</td>\n",
              "      <td>0</td>\n",
              "      <td>0</td>\n",
              "      <td>0</td>\n",
              "      <td>0</td>\n",
              "      <td>1</td>\n",
              "      <td>../input/ocular-disease-recognition-odir5k/ODI...</td>\n",
              "      <td>['D']</td>\n",
              "      <td>[0, 1, 0, 0, 0, 0, 0, 0]</td>\n",
              "      <td>4_right.jpg</td>\n",
              "    </tr>\n",
              "    <tr>\n",
              "      <th>4</th>\n",
              "      <td>5</td>\n",
              "      <td>50</td>\n",
              "      <td>Female</td>\n",
              "      <td>5_left.jpg</td>\n",
              "      <td>5_right.jpg</td>\n",
              "      <td>moderate non proliferative retinopathy</td>\n",
              "      <td>moderate non proliferative retinopathy</td>\n",
              "      <td>0</td>\n",
              "      <td>1</td>\n",
              "      <td>0</td>\n",
              "      <td>0</td>\n",
              "      <td>0</td>\n",
              "      <td>0</td>\n",
              "      <td>0</td>\n",
              "      <td>0</td>\n",
              "      <td>../input/ocular-disease-recognition-odir5k/ODI...</td>\n",
              "      <td>['D']</td>\n",
              "      <td>[0, 1, 0, 0, 0, 0, 0, 0]</td>\n",
              "      <td>5_right.jpg</td>\n",
              "    </tr>\n",
              "  </tbody>\n",
              "</table>\n",
              "</div>\n",
              "      <button class=\"colab-df-convert\" onclick=\"convertToInteractive('df-15f83456-397f-4b9d-ae3e-e1ab1144a949')\"\n",
              "              title=\"Convert this dataframe to an interactive table.\"\n",
              "              style=\"display:none;\">\n",
              "        \n",
              "  <svg xmlns=\"http://www.w3.org/2000/svg\" height=\"24px\"viewBox=\"0 0 24 24\"\n",
              "       width=\"24px\">\n",
              "    <path d=\"M0 0h24v24H0V0z\" fill=\"none\"/>\n",
              "    <path d=\"M18.56 5.44l.94 2.06.94-2.06 2.06-.94-2.06-.94-.94-2.06-.94 2.06-2.06.94zm-11 1L8.5 8.5l.94-2.06 2.06-.94-2.06-.94L8.5 2.5l-.94 2.06-2.06.94zm10 10l.94 2.06.94-2.06 2.06-.94-2.06-.94-.94-2.06-.94 2.06-2.06.94z\"/><path d=\"M17.41 7.96l-1.37-1.37c-.4-.4-.92-.59-1.43-.59-.52 0-1.04.2-1.43.59L10.3 9.45l-7.72 7.72c-.78.78-.78 2.05 0 2.83L4 21.41c.39.39.9.59 1.41.59.51 0 1.02-.2 1.41-.59l7.78-7.78 2.81-2.81c.8-.78.8-2.07 0-2.86zM5.41 20L4 18.59l7.72-7.72 1.47 1.35L5.41 20z\"/>\n",
              "  </svg>\n",
              "      </button>\n",
              "      \n",
              "  <style>\n",
              "    .colab-df-container {\n",
              "      display:flex;\n",
              "      flex-wrap:wrap;\n",
              "      gap: 12px;\n",
              "    }\n",
              "\n",
              "    .colab-df-convert {\n",
              "      background-color: #E8F0FE;\n",
              "      border: none;\n",
              "      border-radius: 50%;\n",
              "      cursor: pointer;\n",
              "      display: none;\n",
              "      fill: #1967D2;\n",
              "      height: 32px;\n",
              "      padding: 0 0 0 0;\n",
              "      width: 32px;\n",
              "    }\n",
              "\n",
              "    .colab-df-convert:hover {\n",
              "      background-color: #E2EBFA;\n",
              "      box-shadow: 0px 1px 2px rgba(60, 64, 67, 0.3), 0px 1px 3px 1px rgba(60, 64, 67, 0.15);\n",
              "      fill: #174EA6;\n",
              "    }\n",
              "\n",
              "    [theme=dark] .colab-df-convert {\n",
              "      background-color: #3B4455;\n",
              "      fill: #D2E3FC;\n",
              "    }\n",
              "\n",
              "    [theme=dark] .colab-df-convert:hover {\n",
              "      background-color: #434B5C;\n",
              "      box-shadow: 0px 1px 3px 1px rgba(0, 0, 0, 0.15);\n",
              "      filter: drop-shadow(0px 1px 2px rgba(0, 0, 0, 0.3));\n",
              "      fill: #FFFFFF;\n",
              "    }\n",
              "  </style>\n",
              "\n",
              "      <script>\n",
              "        const buttonEl =\n",
              "          document.querySelector('#df-15f83456-397f-4b9d-ae3e-e1ab1144a949 button.colab-df-convert');\n",
              "        buttonEl.style.display =\n",
              "          google.colab.kernel.accessAllowed ? 'block' : 'none';\n",
              "\n",
              "        async function convertToInteractive(key) {\n",
              "          const element = document.querySelector('#df-15f83456-397f-4b9d-ae3e-e1ab1144a949');\n",
              "          const dataTable =\n",
              "            await google.colab.kernel.invokeFunction('convertToInteractive',\n",
              "                                                     [key], {});\n",
              "          if (!dataTable) return;\n",
              "\n",
              "          const docLinkHtml = 'Like what you see? Visit the ' +\n",
              "            '<a target=\"_blank\" href=https://colab.research.google.com/notebooks/data_table.ipynb>data table notebook</a>'\n",
              "            + ' to learn more about interactive tables.';\n",
              "          element.innerHTML = '';\n",
              "          dataTable['output_type'] = 'display_data';\n",
              "          await google.colab.output.renderOutput(dataTable, element);\n",
              "          const docLink = document.createElement('div');\n",
              "          docLink.innerHTML = docLinkHtml;\n",
              "          element.appendChild(docLink);\n",
              "        }\n",
              "      </script>\n",
              "    </div>\n",
              "  </div>\n",
              "  "
            ]
          },
          "metadata": {},
          "execution_count": 12
        }
      ]
    },
    {
      "cell_type": "code",
      "metadata": {
        "colab": {
          "base_uri": "https://localhost:8080/"
        },
        "id": "aFlM6ub1lZEY",
        "outputId": "03723240-e780-478e-cb75-d22c491c1aa6"
      },
      "source": [
        "ocu_df.shape"
      ],
      "execution_count": null,
      "outputs": [
        {
          "output_type": "execute_result",
          "data": {
            "text/plain": [
              "(6392, 19)"
            ]
          },
          "metadata": {},
          "execution_count": 13
        }
      ]
    },
    {
      "cell_type": "code",
      "metadata": {
        "id": "6q7NxWRAjPUy"
      },
      "source": [
        "new_ocu_df = ocu_df.loc[:,['filename','labels']]\n",
        "new_ocu_df.columns = ['paths','disease']"
      ],
      "execution_count": null,
      "outputs": []
    },
    {
      "cell_type": "code",
      "metadata": {
        "id": "tiYO0QT2ZVZ0"
      },
      "source": [
        "new_ocu_df"
      ],
      "execution_count": null,
      "outputs": []
    },
    {
      "cell_type": "code",
      "metadata": {
        "id": "vIDtmhIKZamQ"
      },
      "source": [
        "def change_label(text):\n",
        "    if 'N' in text:\n",
        "        return 0\n",
        "    if 'C' in text:\n",
        "        return 1\n",
        "    if 'A' in text:\n",
        "        return 2\n",
        "    if 'D' in text:\n",
        "        return 3\n",
        "    if 'G' in text:\n",
        "        return 4\n",
        "    if 'H' in text:\n",
        "        return 5\n",
        "    if 'M' in text:\n",
        "        return 6\n",
        "    if 'O' in text:\n",
        "        return 7\n",
        "\n",
        "def add_filepath(text):\n",
        "    str = OCU_IMG_ROOT + text\n",
        "    return str\n",
        "new_ocu_df['paths'] = new_ocu_df['paths'].apply(lambda x : add_filepath(x))\n",
        "new_ocu_df['disease'] = new_ocu_df['disease'].apply(lambda x : change_label(x))\n",
        "new_ocu_df['disease'] = new_ocu_df['disease'].astype(int)"
      ],
      "execution_count": null,
      "outputs": []
    },
    {
      "cell_type": "code",
      "metadata": {
        "id": "dhiL8U62fJ5x"
      },
      "source": [
        "new_ocu_df"
      ],
      "execution_count": null,
      "outputs": []
    },
    {
      "cell_type": "code",
      "metadata": {
        "colab": {
          "base_uri": "https://localhost:8080/"
        },
        "id": "3fNIg9fsfdf7",
        "outputId": "69fc3cd2-85f6-478e-94c6-9159323ace13"
      },
      "source": [
        "print('Number of normal(0) and cataract(1) and A(2) and G(4) images')\n",
        "print(new_ocu_df['disease'].value_counts())"
      ],
      "execution_count": null,
      "outputs": [
        {
          "output_type": "stream",
          "name": "stdout",
          "text": [
            "Number of normal(0) and cataract(1) and A(2) and G(4) images\n",
            "0    2873\n",
            "3    1608\n",
            "7     708\n",
            "1     293\n",
            "4     284\n",
            "2     266\n",
            "6     232\n",
            "5     128\n",
            "Name: disease, dtype: int64\n"
          ]
        }
      ]
    },
    {
      "cell_type": "markdown",
      "metadata": {
        "id": "qcDyN0xkgCwZ"
      },
      "source": [
        "down sample\n"
      ]
    },
    {
      "cell_type": "code",
      "metadata": {
        "colab": {
          "base_uri": "https://localhost:8080/"
        },
        "id": "MbBaYzPZfuKd",
        "outputId": "3837445f-0f78-4329-8b91-3a85b2db7ed7"
      },
      "source": [
        "def downsample(df):\n",
        "    df = pd.concat([\n",
        "        df.query('disease==1'),\n",
        "        df.query('disease==2'),\n",
        "        # df.query('disease==4'),\n",
        "        df.query('disease==0').sample(300,random_state=SEED)\n",
        "        # df.query('disease==3').sample(300,random_state=SEED)\n",
        "    ])\n",
        "    return df\n",
        "\n",
        "new_ocu_df = downsample(new_ocu_df)\n",
        "\n",
        "print('Number of normal(0) and cataract(1) and other_disease(3) and AMD(4) and G(5) images')\n",
        "print(new_ocu_df['disease'].value_counts())"
      ],
      "execution_count": null,
      "outputs": [
        {
          "output_type": "stream",
          "name": "stdout",
          "text": [
            "Number of normal(0) and cataract(1) and other_disease(3) and AMD(4) and G(5) images\n",
            "0    300\n",
            "1    293\n",
            "2    266\n",
            "Name: disease, dtype: int64\n"
          ]
        }
      ]
    },
    {
      "cell_type": "markdown",
      "metadata": {
        "id": "8P7k-YLIjUjQ"
      },
      "source": [
        "## Create datasets"
      ]
    },
    {
      "cell_type": "code",
      "metadata": {
        "colab": {
          "base_uri": "https://localhost:8080/"
        },
        "id": "pcYqAYlJgafA",
        "outputId": "5a84c57c-006a-4f46-893f-3a9e7ca7a267"
      },
      "source": [
        "df = pd.concat([cat_df, new_ocu_df], ignore_index=True)\n",
        "# df = cat_df\n",
        "df\n",
        "print(df['disease'].value_counts())"
      ],
      "execution_count": null,
      "outputs": [
        {
          "output_type": "stream",
          "name": "stdout",
          "text": [
            "0    600\n",
            "1    393\n",
            "2    266\n",
            "3    100\n",
            "Name: disease, dtype: int64\n"
          ]
        }
      ]
    },
    {
      "cell_type": "code",
      "metadata": {
        "colab": {
          "base_uri": "https://localhost:8080/"
        },
        "id": "mzyXzF0Bzjv7",
        "outputId": "43911e6c-fc7e-49e3-9370-a44ac93c530f"
      },
      "source": [
        "#for transfer learning test\n",
        "df1, df2 = train_test_split(df,\n",
        "                        test_size=0.5,\n",
        "                        random_state=SEED,\n",
        "                        stratify=df['disease'])\n",
        "print(df1['disease'].value_counts())\n",
        "print(df2['disease'].value_counts())"
      ],
      "execution_count": null,
      "outputs": [
        {
          "output_type": "stream",
          "name": "stdout",
          "text": [
            "0    300\n",
            "1    196\n",
            "2    133\n",
            "3     50\n",
            "Name: disease, dtype: int64\n",
            "0    300\n",
            "1    197\n",
            "2    133\n",
            "3     50\n",
            "Name: disease, dtype: int64\n"
          ]
        }
      ]
    },
    {
      "cell_type": "code",
      "metadata": {
        "id": "S_lN-eyhxaKf"
      },
      "source": [
        "df"
      ],
      "execution_count": null,
      "outputs": []
    },
    {
      "cell_type": "code",
      "metadata": {
        "id": "fQnfHBb7jvzY"
      },
      "source": [
        "train_df_1, test_df_1 = train_test_split(df,\n",
        "                                     test_size=0.2,\n",
        "                                     random_state=SEED,\n",
        "                                     stratify=df['disease'])\n",
        "\n",
        "train_df_1, val_df_1 = train_test_split(train_df_1,\n",
        "                                    test_size=0.15,\n",
        "                                    random_state=SEED,\n",
        "                                    stratify=train_df_1['disease'])"
      ],
      "execution_count": null,
      "outputs": []
    },
    {
      "cell_type": "code",
      "metadata": {
        "id": "d0uRW3D63Hlz"
      },
      "source": [
        "#for transfer learning first half data\n",
        "train_df_1_tran, test_df_1_tran = train_test_split(df1,\n",
        "                                     test_size=0.2,\n",
        "                                     random_state=SEED,\n",
        "                                     stratify=df1['disease'])\n",
        "\n",
        "train_df_1_tran, val_df_1_tran = train_test_split(train_df_1_tran,\n",
        "                                    test_size=0.15,\n",
        "                                    random_state=SEED,\n",
        "                                    stratify=train_df_1_tran['disease'])"
      ],
      "execution_count": null,
      "outputs": []
    },
    {
      "cell_type": "code",
      "metadata": {
        "id": "y7Kpws7X3HIP"
      },
      "source": [
        "#for transfer learning second half data\n",
        "train_df_2_tran, test_df_2_tran = train_test_split(df2,\n",
        "                                     test_size=0.2,\n",
        "                                     random_state=SEED,\n",
        "                                     stratify=df2['disease'])\n",
        "\n",
        "train_df_2_tran, val_df_2_tran = train_test_split(train_df_2_tran,\n",
        "                                    test_size=0.15,\n",
        "                                    random_state=SEED,\n",
        "                                    stratify=train_df_2_tran['disease'])"
      ],
      "execution_count": null,
      "outputs": []
    },
    {
      "cell_type": "code",
      "metadata": {
        "colab": {
          "base_uri": "https://localhost:8080/"
        },
        "id": "3ZK6YUtS_rTz",
        "outputId": "f3d9ab84-4a64-47f9-c4fc-bcb24fae4b68"
      },
      "source": [
        "print(val_df_2_tran.value_counts())"
      ],
      "execution_count": null,
      "outputs": [
        {
          "output_type": "stream",
          "name": "stdout",
          "text": [
            "paths                                             disease\n",
            "/content/dataset/3_retina_disease/Retina_097.png  3          1\n",
            "/content/ODIR-5K/Training Images/2179_right.jpg   1          1\n",
            "/content/ODIR-5K/Training Images/2181_left.jpg    1          1\n",
            "/content/ODIR-5K/Training Images/2198_left.jpg    1          1\n",
            "/content/ODIR-5K/Training Images/2200_left.jpg    1          1\n",
            "                                                            ..\n",
            "/content/dataset/1_normal/NL_023.png              0          1\n",
            "/content/dataset/1_normal/NL_065.png              0          1\n",
            "/content/dataset/1_normal/NL_066.png              0          1\n",
            "/content/dataset/1_normal/NL_088.png              0          1\n",
            "/content/ODIR-5K/Training Images/102_left.jpg     2          1\n",
            "Length: 82, dtype: int64\n"
          ]
        }
      ]
    },
    {
      "cell_type": "code",
      "metadata": {
        "colab": {
          "base_uri": "https://localhost:8080/",
          "height": 419
        },
        "id": "-Ejm9BQIxrlH",
        "outputId": "55af37e0-652c-46be-a715-df59af425c82"
      },
      "source": [
        "test_df_1"
      ],
      "execution_count": null,
      "outputs": [
        {
          "output_type": "execute_result",
          "data": {
            "text/html": [
              "<div>\n",
              "<style scoped>\n",
              "    .dataframe tbody tr th:only-of-type {\n",
              "        vertical-align: middle;\n",
              "    }\n",
              "\n",
              "    .dataframe tbody tr th {\n",
              "        vertical-align: top;\n",
              "    }\n",
              "\n",
              "    .dataframe thead th {\n",
              "        text-align: right;\n",
              "    }\n",
              "</style>\n",
              "<table border=\"1\" class=\"dataframe\">\n",
              "  <thead>\n",
              "    <tr style=\"text-align: right;\">\n",
              "      <th></th>\n",
              "      <th>paths</th>\n",
              "      <th>disease</th>\n",
              "    </tr>\n",
              "  </thead>\n",
              "  <tbody>\n",
              "    <tr>\n",
              "      <th>704</th>\n",
              "      <td>/content/ODIR-5K/Training Images/2125_left.jpg</td>\n",
              "      <td>1</td>\n",
              "    </tr>\n",
              "    <tr>\n",
              "      <th>691</th>\n",
              "      <td>/content/ODIR-5K/Training Images/2108_left.jpg</td>\n",
              "      <td>1</td>\n",
              "    </tr>\n",
              "    <tr>\n",
              "      <th>391</th>\n",
              "      <td>/content/dataset/1_normal/NL_028.png</td>\n",
              "      <td>0</td>\n",
              "    </tr>\n",
              "    <tr>\n",
              "      <th>50</th>\n",
              "      <td>/content/dataset/3_retina_disease/Retina_098.png</td>\n",
              "      <td>3</td>\n",
              "    </tr>\n",
              "    <tr>\n",
              "      <th>521</th>\n",
              "      <td>/content/ODIR-5K/Training Images/1454_right.jpg</td>\n",
              "      <td>1</td>\n",
              "    </tr>\n",
              "    <tr>\n",
              "      <th>...</th>\n",
              "      <td>...</td>\n",
              "      <td>...</td>\n",
              "    </tr>\n",
              "    <tr>\n",
              "      <th>36</th>\n",
              "      <td>/content/dataset/3_retina_disease/Retina_002.png</td>\n",
              "      <td>3</td>\n",
              "    </tr>\n",
              "    <tr>\n",
              "      <th>1218</th>\n",
              "      <td>/content/ODIR-5K/Training Images/3171_left.jpg</td>\n",
              "      <td>0</td>\n",
              "    </tr>\n",
              "    <tr>\n",
              "      <th>1057</th>\n",
              "      <td>/content/ODIR-5K/Training Images/2053_left.jpg</td>\n",
              "      <td>2</td>\n",
              "    </tr>\n",
              "    <tr>\n",
              "      <th>473</th>\n",
              "      <td>/content/dataset/1_normal/NL_123.png</td>\n",
              "      <td>0</td>\n",
              "    </tr>\n",
              "    <tr>\n",
              "      <th>45</th>\n",
              "      <td>/content/dataset/3_retina_disease/Retina_079.png</td>\n",
              "      <td>3</td>\n",
              "    </tr>\n",
              "  </tbody>\n",
              "</table>\n",
              "<p>272 rows × 2 columns</p>\n",
              "</div>"
            ],
            "text/plain": [
              "                                                 paths  disease\n",
              "704     /content/ODIR-5K/Training Images/2125_left.jpg        1\n",
              "691     /content/ODIR-5K/Training Images/2108_left.jpg        1\n",
              "391               /content/dataset/1_normal/NL_028.png        0\n",
              "50    /content/dataset/3_retina_disease/Retina_098.png        3\n",
              "521    /content/ODIR-5K/Training Images/1454_right.jpg        1\n",
              "...                                                ...      ...\n",
              "36    /content/dataset/3_retina_disease/Retina_002.png        3\n",
              "1218    /content/ODIR-5K/Training Images/3171_left.jpg        0\n",
              "1057    /content/ODIR-5K/Training Images/2053_left.jpg        2\n",
              "473               /content/dataset/1_normal/NL_123.png        0\n",
              "45    /content/dataset/3_retina_disease/Retina_079.png        3\n",
              "\n",
              "[272 rows x 2 columns]"
            ]
          },
          "metadata": {},
          "execution_count": 36
        }
      ]
    },
    {
      "cell_type": "markdown",
      "metadata": {
        "id": "HiHhojAq_Ja-"
      },
      "source": [
        "## image size"
      ]
    },
    {
      "cell_type": "code",
      "metadata": {
        "id": "B05nSiSD-vVE"
      },
      "source": [
        "# #1 size\n",
        "# IMG_HEIGHT = 192\n",
        "# IMG_WIDTH = 256\n",
        "# #2 size\n",
        "# IMG_HEIGHT = 288\n",
        "# IMG_WIDTH = 384\n",
        "# 3 size\n",
        "IMG_HEIGHT = 400\n",
        "IMG_WIDTH = 400"
      ],
      "execution_count": null,
      "outputs": []
    },
    {
      "cell_type": "code",
      "metadata": {
        "colab": {
          "base_uri": "https://localhost:8080/"
        },
        "id": "-IGIvQhIkXvT",
        "outputId": "4cd77cd3-9a69-41c3-8d08-63557872b66a"
      },
      "source": [
        "def create_datasets(df, img_width, img_height):\n",
        "    imgs = []\n",
        "    for path in tqdm(df['paths']):\n",
        "        img = cv2.imread(path)\n",
        "        img = cv2.cvtColor(img, cv2.COLOR_BGR2RGB)\n",
        "        # change the img to square\n",
        "        height = img.shape[0]\n",
        "        width = img.shape[1]\n",
        "        img = img[0:height,int((width-height)/2):int((width-(width-height)/2))]\n",
        "        #\n",
        "        img = cv2.resize(img, (img_width, img_height))\n",
        "        imgs.append(img)\n",
        "\n",
        "    imgs = np.array(imgs, dtype='float32')\n",
        "    df = pd.get_dummies(df['disease'])\n",
        "    return imgs, df\n",
        "\n",
        "#whole datasets\n",
        "train_imgs, train_df = create_datasets(train_df_1, IMG_WIDTH, IMG_HEIGHT)\n",
        "val_imgs, val_df = create_datasets(val_df_1, IMG_WIDTH, IMG_HEIGHT)\n",
        "test_imgs, test_df = create_datasets(test_df_1, IMG_WIDTH, IMG_HEIGHT)\n",
        "\n",
        "# #first datasets\n",
        "# train_imgs_1_tran, train_df_1_tran = create_datasets(train_df_1_tran, IMG_WIDTH, IMG_HEIGHT)\n",
        "# val_imgs_1_tran, val_df_1_tran = create_datasets(val_df_1_tran, IMG_WIDTH, IMG_HEIGHT)\n",
        "# test_imgs_1_tran, test_df_1_tran = create_datasets(test_df_1_tran, IMG_WIDTH, IMG_HEIGHT)\n",
        "# #second datasets\n",
        "# train_imgs_2_tran, train_df_2_tran = create_datasets(train_df_2_tran, IMG_WIDTH, IMG_HEIGHT)\n",
        "# val_imgs_2_tran, val_df_2_tran = create_datasets(val_df_2_tran, IMG_WIDTH, IMG_HEIGHT)\n",
        "# test_imgs_2_tran, test_df_2_tran = create_datasets(test_df_2_tran, IMG_WIDTH, IMG_HEIGHT)\n"
      ],
      "execution_count": null,
      "outputs": [
        {
          "output_type": "stream",
          "name": "stderr",
          "text": [
            "100%|██████████| 923/923 [00:52<00:00, 17.64it/s]\n",
            "100%|██████████| 164/164 [00:09<00:00, 16.74it/s]\n",
            "100%|██████████| 272/272 [00:15<00:00, 17.39it/s]\n"
          ]
        }
      ]
    },
    {
      "cell_type": "code",
      "metadata": {
        "id": "vF-HzFlF6w0S"
      },
      "source": [
        "train_imgs = train_imgs / 255.0\n",
        "val_imgs = val_imgs / 255.0\n",
        "test_imgs = test_imgs / 255.0\n",
        "\n",
        "# train_imgs_1_tran = train_imgs_1_tran / 255.0\n",
        "# val_imgs_1_tran = val_imgs_1_tran / 255.0\n",
        "# test_imgs_1_tran = test_imgs_1_tran / 255.0\n",
        "\n",
        "# train_imgs_2_tran = train_imgs_2_tran / 255.0\n",
        "# val_imgs_2_tran = val_imgs_2_tran / 255.0\n",
        "# test_imgs_2_tran = test_imgs_2_tran / 255.0"
      ],
      "execution_count": null,
      "outputs": []
    },
    {
      "cell_type": "markdown",
      "metadata": {
        "id": "9YWMHBkc-5zn"
      },
      "source": [
        "## Epochs and batch size"
      ]
    },
    {
      "cell_type": "code",
      "metadata": {
        "id": "F03kgZElkdQx"
      },
      "source": [
        "EPOCHS = 100\n",
        "BATCH_SIZE = 8"
      ],
      "execution_count": null,
      "outputs": []
    },
    {
      "cell_type": "markdown",
      "metadata": {
        "id": "s_y-bwRblKXU"
      },
      "source": [
        "## Build the model (Xception)"
      ]
    },
    {
      "cell_type": "code",
      "metadata": {
        "id": "rBZn7vICzpig"
      },
      "source": [
        "# Xception = tf.keras.applications.Xception(input_shape=[IMG_HEIGHT, IMG_WIDTH, 3], weights='imagenet', include_top=False)\n",
        "# Xception.summary()"
      ],
      "execution_count": null,
      "outputs": []
    },
    {
      "cell_type": "code",
      "metadata": {
        "colab": {
          "base_uri": "https://localhost:8080/"
        },
        "id": "GcIeCQtIlO4U",
        "outputId": "ebd03c3c-fe2c-416e-838a-43f42d0ed823"
      },
      "source": [
        "def create_model():\n",
        "  pretrained_model = tf.keras.applications.Xception(input_shape=[IMG_HEIGHT, IMG_WIDTH, 3], weights='imagenet', include_top=False)\n",
        "  pretrained_model.trainable = True\n",
        "#   pretrained_model.trainable = False\n",
        "  model = tf.keras.Sequential([\n",
        "    pretrained_model,\n",
        "    tf.keras.layers.GlobalAveragePooling2D(),\n",
        "    tf.keras.layers.Dense(4, activation='softmax')\n",
        "  ])\n",
        "  model.compile(\n",
        "    optimizer='adam',\n",
        "    loss = 'categorical_crossentropy',\n",
        "    metrics=['accuracy']\n",
        "  )\n",
        "  return model\n",
        "\n",
        "# with tpu_strategy.scope(): # creating the model in the TPUStrategy scope means we will train the model on the TPU\n",
        "model_Xception = create_model()\n",
        "model_Xception.summary()"
      ],
      "execution_count": null,
      "outputs": [
        {
          "output_type": "stream",
          "name": "stdout",
          "text": [
            "Model: \"sequential_4\"\n",
            "_________________________________________________________________\n",
            "Layer (type)                 Output Shape              Param #   \n",
            "=================================================================\n",
            "xception (Functional)        (None, 13, 13, 2048)      20861480  \n",
            "_________________________________________________________________\n",
            "global_average_pooling2d_4 ( (None, 2048)              0         \n",
            "_________________________________________________________________\n",
            "dense_4 (Dense)              (None, 4)                 8196      \n",
            "=================================================================\n",
            "Total params: 20,869,676\n",
            "Trainable params: 20,815,148\n",
            "Non-trainable params: 54,528\n",
            "_________________________________________________________________\n"
          ]
        }
      ]
    },
    {
      "cell_type": "code",
      "metadata": {
        "id": "S7dPir-YlSLn"
      },
      "source": [
        "generator = ImageDataGenerator(horizontal_flip=True,\n",
        "                               height_shift_range=0.1,\n",
        "                               fill_mode='reflect')\n",
        "\n",
        "\n",
        "\n",
        "es_callback = tf.keras.callbacks.EarlyStopping(patience=20,\n",
        "                                               verbose=1,\n",
        "                                               restore_best_weights=True)\n",
        "reduce_lr = tf.keras.callbacks.ReduceLROnPlateau(factor=0.1, patience=10, verbose=1)"
      ],
      "execution_count": null,
      "outputs": []
    },
    {
      "cell_type": "code",
      "metadata": {
        "colab": {
          "base_uri": "https://localhost:8080/",
          "height": 1000
        },
        "id": "vkZ49HAZlZh0",
        "outputId": "b811b67a-2fe5-4687-8f64-3cc3840197df"
      },
      "source": [
        "history = model_Xception.fit(generator.flow(train_imgs,\n",
        "                                   train_df,\n",
        "                                   batch_size=BATCH_SIZE),\n",
        "                    epochs=EPOCHS,\n",
        "                    steps_per_epoch=len(train_imgs)/BATCH_SIZE,\n",
        "                    callbacks=[es_callback, reduce_lr],\n",
        "                    validation_data=(val_imgs, val_df))\n",
        "\n",
        "\n",
        "pd.DataFrame(history.history)[['accuracy', 'val_accuracy']].plot()\n",
        "pd.DataFrame(history.history)[['loss', 'val_loss']].plot()\n",
        "plt.show()"
      ],
      "execution_count": null,
      "outputs": [
        {
          "output_type": "stream",
          "name": "stdout",
          "text": [
            "Epoch 1/100\n",
            "115/115 [==============================] - 35s 260ms/step - loss: 1.0146 - accuracy: 0.6143 - val_loss: 5.1684 - val_accuracy: 0.6341\n",
            "Epoch 2/100\n",
            "115/115 [==============================] - 28s 244ms/step - loss: 0.8316 - accuracy: 0.6836 - val_loss: 2.2037 - val_accuracy: 0.7378\n",
            "Epoch 3/100\n",
            "115/115 [==============================] - 28s 241ms/step - loss: 0.6996 - accuracy: 0.7194 - val_loss: 4.9171 - val_accuracy: 0.6341\n",
            "Epoch 4/100\n",
            "115/115 [==============================] - 28s 242ms/step - loss: 0.6283 - accuracy: 0.7595 - val_loss: 4.4191 - val_accuracy: 0.4878\n",
            "Epoch 5/100\n",
            "115/115 [==============================] - 28s 242ms/step - loss: 0.5546 - accuracy: 0.7768 - val_loss: 0.7979 - val_accuracy: 0.8049\n",
            "Epoch 6/100\n",
            "115/115 [==============================] - 28s 244ms/step - loss: 0.5035 - accuracy: 0.8223 - val_loss: 0.7991 - val_accuracy: 0.7317\n",
            "Epoch 7/100\n",
            "115/115 [==============================] - 28s 243ms/step - loss: 0.4737 - accuracy: 0.8462 - val_loss: 0.7165 - val_accuracy: 0.7561\n",
            "Epoch 8/100\n",
            "115/115 [==============================] - 28s 242ms/step - loss: 0.4719 - accuracy: 0.8364 - val_loss: 2.1635 - val_accuracy: 0.4390\n",
            "Epoch 9/100\n",
            "115/115 [==============================] - 28s 241ms/step - loss: 0.4683 - accuracy: 0.8353 - val_loss: 5.8938 - val_accuracy: 0.2988\n",
            "Epoch 10/100\n",
            "115/115 [==============================] - 28s 245ms/step - loss: 0.4549 - accuracy: 0.8256 - val_loss: 0.8366 - val_accuracy: 0.7866\n",
            "Epoch 11/100\n",
            "115/115 [==============================] - 28s 244ms/step - loss: 0.3807 - accuracy: 0.8592 - val_loss: 0.7387 - val_accuracy: 0.8415\n",
            "Epoch 12/100\n",
            "115/115 [==============================] - 29s 247ms/step - loss: 0.3324 - accuracy: 0.8884 - val_loss: 0.5106 - val_accuracy: 0.7988\n",
            "Epoch 13/100\n",
            "115/115 [==============================] - 28s 245ms/step - loss: 0.3526 - accuracy: 0.8657 - val_loss: 1.2038 - val_accuracy: 0.6402\n",
            "Epoch 14/100\n",
            "115/115 [==============================] - 28s 243ms/step - loss: 0.3568 - accuracy: 0.8873 - val_loss: 0.5270 - val_accuracy: 0.8354\n",
            "Epoch 15/100\n",
            "115/115 [==============================] - 28s 243ms/step - loss: 0.3415 - accuracy: 0.8830 - val_loss: 0.7689 - val_accuracy: 0.7439\n",
            "Epoch 16/100\n",
            "115/115 [==============================] - 28s 242ms/step - loss: 0.2999 - accuracy: 0.8917 - val_loss: 0.5194 - val_accuracy: 0.7744\n",
            "Epoch 17/100\n",
            "115/115 [==============================] - 28s 243ms/step - loss: 0.2944 - accuracy: 0.8971 - val_loss: 0.9751 - val_accuracy: 0.7622\n",
            "Epoch 18/100\n",
            "115/115 [==============================] - 28s 242ms/step - loss: 0.3399 - accuracy: 0.8852 - val_loss: 0.5883 - val_accuracy: 0.8049\n",
            "Epoch 19/100\n",
            "115/115 [==============================] - 28s 242ms/step - loss: 0.2359 - accuracy: 0.9220 - val_loss: 0.6249 - val_accuracy: 0.7805\n",
            "Epoch 20/100\n",
            "115/115 [==============================] - 28s 242ms/step - loss: 0.2759 - accuracy: 0.8960 - val_loss: 0.6359 - val_accuracy: 0.7500\n",
            "Epoch 21/100\n",
            "115/115 [==============================] - 28s 243ms/step - loss: 0.2409 - accuracy: 0.9252 - val_loss: 0.5680 - val_accuracy: 0.8354\n",
            "Epoch 22/100\n",
            "115/115 [==============================] - 28s 244ms/step - loss: 0.1689 - accuracy: 0.9361 - val_loss: 0.5886 - val_accuracy: 0.7988\n",
            "\n",
            "Epoch 00022: ReduceLROnPlateau reducing learning rate to 0.00010000000474974513.\n",
            "Epoch 23/100\n",
            "115/115 [==============================] - 28s 245ms/step - loss: 0.1381 - accuracy: 0.9556 - val_loss: 0.4534 - val_accuracy: 0.8415\n",
            "Epoch 24/100\n",
            "115/115 [==============================] - 28s 245ms/step - loss: 0.0954 - accuracy: 0.9707 - val_loss: 0.4806 - val_accuracy: 0.8232\n",
            "Epoch 25/100\n",
            "115/115 [==============================] - 28s 243ms/step - loss: 0.0849 - accuracy: 0.9729 - val_loss: 0.5245 - val_accuracy: 0.8476\n",
            "Epoch 26/100\n",
            "115/115 [==============================] - 28s 242ms/step - loss: 0.0791 - accuracy: 0.9751 - val_loss: 0.5480 - val_accuracy: 0.8354\n",
            "Epoch 27/100\n",
            "115/115 [==============================] - 28s 243ms/step - loss: 0.0662 - accuracy: 0.9794 - val_loss: 0.5239 - val_accuracy: 0.8476\n",
            "Epoch 28/100\n",
            "115/115 [==============================] - 28s 243ms/step - loss: 0.0650 - accuracy: 0.9837 - val_loss: 0.5296 - val_accuracy: 0.8415\n",
            "Epoch 29/100\n",
            "115/115 [==============================] - 28s 242ms/step - loss: 0.0653 - accuracy: 0.9794 - val_loss: 0.5988 - val_accuracy: 0.8415\n",
            "Epoch 30/100\n",
            "115/115 [==============================] - 28s 242ms/step - loss: 0.0540 - accuracy: 0.9848 - val_loss: 0.5790 - val_accuracy: 0.8232\n",
            "Epoch 31/100\n",
            "115/115 [==============================] - 28s 243ms/step - loss: 0.0459 - accuracy: 0.9870 - val_loss: 0.5813 - val_accuracy: 0.8293\n",
            "Epoch 32/100\n",
            "115/115 [==============================] - 28s 244ms/step - loss: 0.0478 - accuracy: 0.9892 - val_loss: 0.5352 - val_accuracy: 0.8171\n",
            "Epoch 33/100\n",
            "115/115 [==============================] - 28s 244ms/step - loss: 0.0466 - accuracy: 0.9848 - val_loss: 0.5759 - val_accuracy: 0.8293\n",
            "\n",
            "Epoch 00033: ReduceLROnPlateau reducing learning rate to 1.0000000474974514e-05.\n",
            "Epoch 34/100\n",
            "115/115 [==============================] - 28s 244ms/step - loss: 0.0438 - accuracy: 0.9881 - val_loss: 0.5699 - val_accuracy: 0.8293\n",
            "Epoch 35/100\n",
            "115/115 [==============================] - 28s 244ms/step - loss: 0.0354 - accuracy: 0.9935 - val_loss: 0.5736 - val_accuracy: 0.8232\n",
            "Epoch 36/100\n",
            "115/115 [==============================] - 28s 242ms/step - loss: 0.0448 - accuracy: 0.9859 - val_loss: 0.5627 - val_accuracy: 0.8354\n",
            "Epoch 37/100\n",
            "115/115 [==============================] - 28s 243ms/step - loss: 0.0337 - accuracy: 0.9892 - val_loss: 0.5646 - val_accuracy: 0.8354\n",
            "Epoch 38/100\n",
            "115/115 [==============================] - 28s 242ms/step - loss: 0.0394 - accuracy: 0.9902 - val_loss: 0.5676 - val_accuracy: 0.8354\n",
            "Epoch 39/100\n",
            "115/115 [==============================] - 28s 242ms/step - loss: 0.0415 - accuracy: 0.9881 - val_loss: 0.5648 - val_accuracy: 0.8354\n",
            "Epoch 40/100\n",
            "115/115 [==============================] - 28s 242ms/step - loss: 0.0402 - accuracy: 0.9870 - val_loss: 0.5628 - val_accuracy: 0.8354\n",
            "Epoch 41/100\n",
            "115/115 [==============================] - 28s 241ms/step - loss: 0.0378 - accuracy: 0.9913 - val_loss: 0.5639 - val_accuracy: 0.8415\n",
            "Epoch 42/100\n",
            "115/115 [==============================] - 28s 241ms/step - loss: 0.0415 - accuracy: 0.9870 - val_loss: 0.5654 - val_accuracy: 0.8415\n",
            "Epoch 43/100\n",
            "115/115 [==============================] - 28s 241ms/step - loss: 0.0417 - accuracy: 0.9892 - val_loss: 0.5617 - val_accuracy: 0.8354\n",
            "Restoring model weights from the end of the best epoch.\n",
            "\n",
            "Epoch 00043: ReduceLROnPlateau reducing learning rate to 1.0000000656873453e-06.\n",
            "Epoch 00043: early stopping\n"
          ]
        },
        {
          "output_type": "display_data",
          "data": {
            "image/png": "[encoded data removed]",
            "text/plain": [
              "<Figure size 432x288 with 1 Axes>"
            ]
          },
          "metadata": {
            "needs_background": "light"
          }
        },
        {
          "output_type": "display_data",
          "data": {
            "image/png": "[encoded data removed]",
            "text/plain": [
              "<Figure size 432x288 with 1 Axes>"
            ]
          },
          "metadata": {
            "needs_background": "light"
          }
        }
      ]
    },
    {
      "cell_type": "code",
      "metadata": {
        "id": "eXVnlqck2VH0"
      },
      "source": [
        "# model_Xception.evaluate(test_imgs_1_tran, test_df_1_tran)"
      ],
      "execution_count": null,
      "outputs": []
    },
    {
      "cell_type": "code",
      "metadata": {
        "id": "Itgvn0Se7BaD"
      },
      "source": [
        "# model_Xception.evaluate(test_imgs_2_tran, test_df_2_tran)"
      ],
      "execution_count": null,
      "outputs": []
    },
    {
      "cell_type": "code",
      "metadata": {
        "colab": {
          "base_uri": "https://localhost:8080/"
        },
        "id": "qeKkVP6hoG11",
        "outputId": "7832e1de-88f8-44b8-bbed-7f713b3e2307"
      },
      "source": [
        "model_Xception.evaluate(test_imgs, test_df)"
      ],
      "execution_count": null,
      "outputs": [
        {
          "output_type": "stream",
          "name": "stdout",
          "text": [
            "9/9 [==============================] - 1s 163ms/step - loss: 0.5026 - accuracy: 0.8419\n"
          ]
        },
        {
          "output_type": "execute_result",
          "data": {
            "text/plain": [
              "[0.5026144981384277, 0.841911792755127]"
            ]
          },
          "metadata": {},
          "execution_count": 102
        }
      ]
    },
    {
      "cell_type": "code",
      "metadata": {
        "colab": {
          "base_uri": "https://localhost:8080/"
        },
        "id": "fofANPWZoAqR",
        "outputId": "9eaa5ab1-da68-4753-a733-29ca95faa78e"
      },
      "source": [
        "predictions = model_Xception.predict(test_imgs, steps=len(test_df), verbose=1)\n",
        "y_pred = np.argmax(predictions, axis=1)"
      ],
      "execution_count": null,
      "outputs": [
        {
          "output_type": "stream",
          "name": "stdout",
          "text": [
            "272/272 [==============================] - 3s 8ms/step\n"
          ]
        }
      ]
    },
    {
      "cell_type": "code",
      "metadata": {
        "id": "beCvlSGwmfgd"
      },
      "source": [
        "y_true = test_df_1['disease'].tolist()\n",
        "\n",
        "from sklearn.metrics import classification_report, f1_score\n"
      ],
      "execution_count": null,
      "outputs": []
    },
    {
      "cell_type": "code",
      "metadata": {
        "colab": {
          "base_uri": "https://localhost:8080/"
        },
        "id": "GeeunJVY3KKU",
        "outputId": "be5d983d-87be-4d17-a149-bdc4adc7945d"
      },
      "source": [
        "f1_score(y_true, y_pred, average='weighted')"
      ],
      "execution_count": null,
      "outputs": [
        {
          "output_type": "execute_result",
          "data": {
            "text/plain": [
              "0.8409886604347928"
            ]
          },
          "metadata": {},
          "execution_count": 105
        }
      ]
    },
    {
      "cell_type": "code",
      "metadata": {
        "colab": {
          "base_uri": "https://localhost:8080/"
        },
        "id": "4EcqpDEmi0i9",
        "outputId": "76a2d804-93f9-4183-a656-cf0d91130224"
      },
      "source": [
        "plot_labels = ['N','C','A','O']\n",
        "report = classification_report(y_true, y_pred, target_names=plot_labels)\n",
        "\n",
        "print('report')\n",
        "print(report)"
      ],
      "execution_count": null,
      "outputs": [
        {
          "output_type": "stream",
          "name": "stdout",
          "text": [
            "report\n",
            "              precision    recall  f1-score   support\n",
            "\n",
            "           N       0.86      0.79      0.83       120\n",
            "           C       0.81      0.97      0.89        79\n",
            "           A       0.93      0.81      0.87        53\n",
            "           O       0.67      0.70      0.68        20\n",
            "\n",
            "    accuracy                           0.84       272\n",
            "   macro avg       0.82      0.82      0.82       272\n",
            "weighted avg       0.85      0.84      0.84       272\n",
            "\n"
          ]
        }
      ]
    },
    {
      "cell_type": "code",
      "metadata": {
        "id": "pecWvx2yEenV"
      },
      "source": [
        "#300 -- 85.7\n",
        "#400 -- 86 acc\n",
        "#300 5 class -- 83 acc\n",
        "#300 4 class 24 batch size -- 84 acc\n",
        "#300 4 class 48 batch size -- 87 acc\n",
        "#300 4 class 16 batch size -- 84.2 acc\n",
        "\n",
        "#400 4 class 16 batch size -- 86.0 acc\n",
        "\n",
        "#400 4 class 48 batch size -- 86.6 acc\n",
        "\n",
        "#400 4 class 8 batch size -- 0.8308823704719543 acc"
      ],
      "execution_count": null,
      "outputs": []
    },
    {
      "cell_type": "markdown",
      "metadata": {
        "id": "YoJqypKKA6Gw"
      },
      "source": [
        "## transfer learning test"
      ]
    },
    {
      "cell_type": "code",
      "metadata": {
        "colab": {
          "base_uri": "https://localhost:8080/"
        },
        "id": "H02sFiS3A-Zk",
        "outputId": "9a8ccb98-3e5b-44b4-a79b-b5c260f6e0e3"
      },
      "source": [
        "model_Xception.summary()"
      ],
      "execution_count": null,
      "outputs": [
        {
          "output_type": "stream",
          "name": "stdout",
          "text": [
            "Model: \"sequential\"\n",
            "_________________________________________________________________\n",
            "Layer (type)                 Output Shape              Param #   \n",
            "=================================================================\n",
            "xception (Functional)        (None, 7, 7, 2048)        20861480  \n",
            "_________________________________________________________________\n",
            "global_average_pooling2d (Gl (None, 2048)              0         \n",
            "_________________________________________________________________\n",
            "dense (Dense)                (None, 4)                 8196      \n",
            "=================================================================\n",
            "Total params: 20,869,676\n",
            "Trainable params: 20,815,148\n",
            "Non-trainable params: 54,528\n",
            "_________________________________________________________________\n"
          ]
        }
      ]
    },
    {
      "cell_type": "code",
      "metadata": {
        "colab": {
          "base_uri": "https://localhost:8080/"
        },
        "id": "x8NHEj4qBD1H",
        "outputId": "5677b641-9346-4236-bb31-b41d4a34126f"
      },
      "source": [
        "def create_model_tran():\n",
        "  pretrained_model = model_Xception\n",
        "  pretrained_model.trainable = True\n",
        "#   pretrained_model.trainable = False\n",
        "  model = tf.keras.Sequential([\n",
        "    pretrained_model,\n",
        "    tf.keras.layers.GlobalAveragePooling2D(),\n",
        "    tf.keras.layers.Dense(4, activation='softmax')\n",
        "  ])\n",
        "  model.compile(\n",
        "    optimizer='adam',\n",
        "    loss = 'categorical_crossentropy',\n",
        "    metrics=['accuracy']\n",
        "  )\n",
        "  return model\n",
        "\n",
        "# with tpu_strategy.scope(): # creating the model in the TPUStrategy scope means we will train the model on the TPU\n",
        "model_Xception_2 = create_model()\n",
        "model_Xception_2.summary()"
      ],
      "execution_count": null,
      "outputs": [
        {
          "output_type": "stream",
          "name": "stdout",
          "text": [
            "Model: \"sequential_1\"\n",
            "_________________________________________________________________\n",
            "Layer (type)                 Output Shape              Param #   \n",
            "=================================================================\n",
            "xception (Functional)        (None, 7, 7, 2048)        20861480  \n",
            "_________________________________________________________________\n",
            "global_average_pooling2d_9 ( (None, 2048)              0         \n",
            "_________________________________________________________________\n",
            "dense_7 (Dense)              (None, 4)                 8196      \n",
            "=================================================================\n",
            "Total params: 20,869,676\n",
            "Trainable params: 20,815,148\n",
            "Non-trainable params: 54,528\n",
            "_________________________________________________________________\n"
          ]
        }
      ]
    },
    {
      "cell_type": "code",
      "metadata": {
        "id": "bc-klNM0mUFK"
      },
      "source": [
        "generator = ImageDataGenerator(horizontal_flip=True,\n",
        "                               height_shift_range=0.1,\n",
        "                               fill_mode='reflect')\n",
        "\n",
        "\n",
        "\n",
        "es_callback = tf.keras.callbacks.EarlyStopping(patience=20,\n",
        "                                               verbose=1,\n",
        "                                               restore_best_weights=True)\n",
        "reduce_lr = tf.keras.callbacks.ReduceLROnPlateau(factor=0.1, patience=10, verbose=1)"
      ],
      "execution_count": null,
      "outputs": []
    },
    {
      "cell_type": "code",
      "metadata": {
        "colab": {
          "base_uri": "https://localhost:8080/",
          "height": 1000
        },
        "id": "W3Upe_YTmXRF",
        "outputId": "27e5e6d5-201a-4fbf-c8c7-5e2e25695948"
      },
      "source": [
        "history = model_Xception_2.fit(generator.flow(train_imgs_2_tran,\n",
        "                                   train_df_2_tran,\n",
        "                                   batch_size=BATCH_SIZE),\n",
        "                    epochs=EPOCHS,\n",
        "                    steps_per_epoch=len(train_imgs_2_tran)/BATCH_SIZE,\n",
        "                    callbacks=[es_callback, reduce_lr],\n",
        "                    validation_data=(val_imgs_2_tran, val_df_2_tran))\n",
        "\n",
        "\n",
        "pd.DataFrame(history.history)[['accuracy', 'val_accuracy']].plot()\n",
        "pd.DataFrame(history.history)[['loss', 'val_loss']].plot()\n",
        "plt.show()"
      ],
      "execution_count": null,
      "outputs": [
        {
          "output_type": "stream",
          "name": "stdout",
          "text": [
            "Epoch 1/100\n",
            "14/14 [==============================] - 12s 552ms/step - loss: 0.9689 - accuracy: 0.6190 - val_loss: 18.1484 - val_accuracy: 0.3171\n",
            "Epoch 2/100\n",
            "14/14 [==============================] - 7s 465ms/step - loss: 0.6574 - accuracy: 0.7532 - val_loss: 5.1927 - val_accuracy: 0.4878\n",
            "Epoch 3/100\n",
            "14/14 [==============================] - 7s 464ms/step - loss: 0.4583 - accuracy: 0.8377 - val_loss: 2.1913 - val_accuracy: 0.7073\n",
            "Epoch 4/100\n",
            "14/14 [==============================] - 7s 465ms/step - loss: 0.5056 - accuracy: 0.8420 - val_loss: 1.8850 - val_accuracy: 0.6098\n",
            "Epoch 5/100\n",
            "14/14 [==============================] - 7s 464ms/step - loss: 0.4809 - accuracy: 0.8225 - val_loss: 2.5072 - val_accuracy: 0.5000\n",
            "Epoch 6/100\n",
            "14/14 [==============================] - 7s 467ms/step - loss: 0.2694 - accuracy: 0.9134 - val_loss: 2.8807 - val_accuracy: 0.5976\n",
            "Epoch 7/100\n",
            "14/14 [==============================] - 7s 465ms/step - loss: 0.3058 - accuracy: 0.9004 - val_loss: 2.3845 - val_accuracy: 0.7683\n",
            "Epoch 8/100\n",
            "14/14 [==============================] - 7s 461ms/step - loss: 0.2096 - accuracy: 0.9329 - val_loss: 4.2571 - val_accuracy: 0.6463\n",
            "Epoch 9/100\n",
            "14/14 [==============================] - 7s 468ms/step - loss: 0.2322 - accuracy: 0.9221 - val_loss: 2.6146 - val_accuracy: 0.5366\n",
            "Epoch 10/100\n",
            "14/14 [==============================] - 7s 465ms/step - loss: 0.2181 - accuracy: 0.9351 - val_loss: 3.2825 - val_accuracy: 0.5976\n",
            "Epoch 11/100\n",
            "14/14 [==============================] - 7s 454ms/step - loss: 0.1808 - accuracy: 0.9394 - val_loss: 10.6696 - val_accuracy: 0.4024\n",
            "Epoch 12/100\n",
            "14/14 [==============================] - 7s 464ms/step - loss: 0.1889 - accuracy: 0.9481 - val_loss: 2.3986 - val_accuracy: 0.7073\n",
            "Epoch 13/100\n",
            "14/14 [==============================] - 7s 462ms/step - loss: 0.2173 - accuracy: 0.9307 - val_loss: 3.4840 - val_accuracy: 0.5976\n",
            "Epoch 14/100\n",
            "14/14 [==============================] - 7s 460ms/step - loss: 0.1045 - accuracy: 0.9632 - val_loss: 4.5111 - val_accuracy: 0.4390\n",
            "\n",
            "Epoch 00014: ReduceLROnPlateau reducing learning rate to 0.00010000000474974513.\n",
            "Epoch 15/100\n",
            "14/14 [==============================] - 7s 462ms/step - loss: 0.0895 - accuracy: 0.9719 - val_loss: 2.4552 - val_accuracy: 0.6341\n",
            "Epoch 16/100\n",
            "14/14 [==============================] - 7s 466ms/step - loss: 0.0452 - accuracy: 0.9848 - val_loss: 1.8281 - val_accuracy: 0.7195\n",
            "Epoch 17/100\n",
            "14/14 [==============================] - 7s 463ms/step - loss: 0.0534 - accuracy: 0.9870 - val_loss: 1.5131 - val_accuracy: 0.7073\n",
            "Epoch 18/100\n",
            "14/14 [==============================] - 7s 469ms/step - loss: 0.0384 - accuracy: 0.9892 - val_loss: 1.3152 - val_accuracy: 0.7439\n",
            "Epoch 19/100\n",
            "14/14 [==============================] - 7s 462ms/step - loss: 0.0250 - accuracy: 0.9935 - val_loss: 1.1917 - val_accuracy: 0.7439\n",
            "Epoch 20/100\n",
            "14/14 [==============================] - 7s 466ms/step - loss: 0.0236 - accuracy: 0.9957 - val_loss: 1.0999 - val_accuracy: 0.7561\n",
            "Epoch 21/100\n",
            "14/14 [==============================] - 7s 468ms/step - loss: 0.0176 - accuracy: 0.9957 - val_loss: 1.0810 - val_accuracy: 0.7683\n",
            "Epoch 22/100\n",
            "14/14 [==============================] - 7s 463ms/step - loss: 0.0282 - accuracy: 0.9913 - val_loss: 1.0656 - val_accuracy: 0.7805\n",
            "Epoch 23/100\n",
            "14/14 [==============================] - 7s 485ms/step - loss: 0.0206 - accuracy: 0.9913 - val_loss: 1.1103 - val_accuracy: 0.7927\n",
            "Epoch 24/100\n",
            "14/14 [==============================] - 7s 465ms/step - loss: 0.0351 - accuracy: 0.9870 - val_loss: 1.0606 - val_accuracy: 0.7805\n",
            "Epoch 25/100\n",
            "14/14 [==============================] - 7s 468ms/step - loss: 0.0380 - accuracy: 0.9892 - val_loss: 1.0148 - val_accuracy: 0.8049\n",
            "Epoch 26/100\n",
            "14/14 [==============================] - 7s 458ms/step - loss: 0.0193 - accuracy: 0.9913 - val_loss: 1.0027 - val_accuracy: 0.8049\n",
            "Epoch 27/100\n",
            "14/14 [==============================] - 7s 466ms/step - loss: 0.0182 - accuracy: 0.9957 - val_loss: 1.0140 - val_accuracy: 0.7927\n",
            "Epoch 28/100\n",
            "14/14 [==============================] - 7s 487ms/step - loss: 0.0215 - accuracy: 0.9892 - val_loss: 0.9915 - val_accuracy: 0.8049\n",
            "Epoch 29/100\n",
            "14/14 [==============================] - 7s 470ms/step - loss: 0.0167 - accuracy: 0.9957 - val_loss: 0.9839 - val_accuracy: 0.8049\n",
            "Epoch 30/100\n",
            "14/14 [==============================] - 7s 469ms/step - loss: 0.0191 - accuracy: 0.9957 - val_loss: 1.0077 - val_accuracy: 0.7927\n",
            "Epoch 31/100\n",
            "14/14 [==============================] - 7s 465ms/step - loss: 0.0195 - accuracy: 0.9935 - val_loss: 1.0238 - val_accuracy: 0.8049\n",
            "Epoch 32/100\n",
            "14/14 [==============================] - 7s 464ms/step - loss: 0.0229 - accuracy: 0.9935 - val_loss: 1.0116 - val_accuracy: 0.8049\n",
            "Epoch 33/100\n",
            "14/14 [==============================] - 7s 462ms/step - loss: 0.0133 - accuracy: 0.9957 - val_loss: 1.0090 - val_accuracy: 0.7927\n",
            "Epoch 34/100\n",
            "14/14 [==============================] - 7s 467ms/step - loss: 0.0266 - accuracy: 0.9913 - val_loss: 1.0910 - val_accuracy: 0.8171\n",
            "Epoch 35/100\n",
            "14/14 [==============================] - 7s 484ms/step - loss: 0.0483 - accuracy: 0.9827 - val_loss: 1.0409 - val_accuracy: 0.8049\n",
            "Epoch 36/100\n",
            "14/14 [==============================] - 7s 464ms/step - loss: 0.0253 - accuracy: 0.9913 - val_loss: 0.9912 - val_accuracy: 0.8171\n",
            "Epoch 37/100\n",
            "14/14 [==============================] - 7s 465ms/step - loss: 0.0147 - accuracy: 0.9957 - val_loss: 1.0388 - val_accuracy: 0.8171\n",
            "Epoch 38/100\n",
            "14/14 [==============================] - 7s 467ms/step - loss: 0.0168 - accuracy: 0.9957 - val_loss: 1.0225 - val_accuracy: 0.8293\n",
            "Epoch 39/100\n",
            "14/14 [==============================] - 7s 465ms/step - loss: 0.0184 - accuracy: 0.9935 - val_loss: 1.0184 - val_accuracy: 0.8293\n",
            "\n",
            "Epoch 00039: ReduceLROnPlateau reducing learning rate to 1.0000000474974514e-05.\n",
            "Epoch 40/100\n",
            "14/14 [==============================] - 7s 463ms/step - loss: 0.0137 - accuracy: 0.9957 - val_loss: 1.0129 - val_accuracy: 0.8537\n",
            "Epoch 41/100\n",
            "14/14 [==============================] - 7s 466ms/step - loss: 0.0138 - accuracy: 0.9957 - val_loss: 1.0071 - val_accuracy: 0.8415\n",
            "Epoch 42/100\n",
            "14/14 [==============================] - 7s 473ms/step - loss: 0.0289 - accuracy: 0.9892 - val_loss: 0.9993 - val_accuracy: 0.8415\n",
            "Epoch 43/100\n",
            "14/14 [==============================] - 7s 471ms/step - loss: 0.0172 - accuracy: 0.9935 - val_loss: 0.9952 - val_accuracy: 0.8415\n",
            "Epoch 44/100\n",
            "14/14 [==============================] - 7s 470ms/step - loss: 0.0165 - accuracy: 0.9957 - val_loss: 0.9938 - val_accuracy: 0.8415\n",
            "Epoch 45/100\n",
            "14/14 [==============================] - 7s 472ms/step - loss: 0.0144 - accuracy: 0.9957 - val_loss: 0.9954 - val_accuracy: 0.8415\n",
            "Epoch 46/100\n",
            "14/14 [==============================] - 7s 475ms/step - loss: 0.0168 - accuracy: 0.9935 - val_loss: 0.9912 - val_accuracy: 0.8293\n",
            "Epoch 47/100\n",
            "14/14 [==============================] - 7s 494ms/step - loss: 0.0134 - accuracy: 0.9957 - val_loss: 0.9901 - val_accuracy: 0.8293\n",
            "Epoch 48/100\n",
            "14/14 [==============================] - 7s 485ms/step - loss: 0.0198 - accuracy: 0.9913 - val_loss: 0.9879 - val_accuracy: 0.8171\n",
            "Epoch 49/100\n",
            "14/14 [==============================] - 7s 467ms/step - loss: 0.0165 - accuracy: 0.9935 - val_loss: 0.9919 - val_accuracy: 0.8171\n",
            "Restoring model weights from the end of the best epoch.\n",
            "\n",
            "Epoch 00049: ReduceLROnPlateau reducing learning rate to 1.0000000656873453e-06.\n",
            "Epoch 00049: early stopping\n"
          ]
        },
        {
          "output_type": "display_data",
          "data": {
            "image/png": "[encoded data removed]",
            "text/plain": [
              "<Figure size 432x288 with 1 Axes>"
            ]
          },
          "metadata": {
            "needs_background": "light"
          }
        },
        {
          "output_type": "display_data",
          "data": {
            "image/png": "[encoded data removed]",
            "text/plain": [
              "<Figure size 432x288 with 1 Axes>"
            ]
          },
          "metadata": {
            "needs_background": "light"
          }
        }
      ]
    },
    {
      "cell_type": "code",
      "metadata": {
        "colab": {
          "base_uri": "https://localhost:8080/"
        },
        "id": "c5DTjmH5mk5d",
        "outputId": "a379a55b-fecd-435f-dcc9-b7870615f75c"
      },
      "source": [
        "model_Xception_2.evaluate(test_imgs_1_tran, test_df_1_tran)"
      ],
      "execution_count": null,
      "outputs": [
        {
          "output_type": "stream",
          "name": "stdout",
          "text": [
            "5/5 [==============================] - 0s 66ms/step - loss: 0.9976 - accuracy: 0.8235\n"
          ]
        },
        {
          "output_type": "execute_result",
          "data": {
            "text/plain": [
              "[0.9976334571838379, 0.8235294222831726]"
            ]
          },
          "metadata": {},
          "execution_count": 60
        }
      ]
    },
    {
      "cell_type": "code",
      "metadata": {
        "colab": {
          "base_uri": "https://localhost:8080/"
        },
        "id": "m4NCtQTPml1v",
        "outputId": "e678414d-996e-41dc-e8c1-1a3808ecfcc5"
      },
      "source": [
        "model_Xception_2.evaluate(test_imgs_2_tran, test_df_2_tran)"
      ],
      "execution_count": null,
      "outputs": [
        {
          "output_type": "stream",
          "name": "stdout",
          "text": [
            "5/5 [==============================] - 0s 66ms/step - loss: 0.9381 - accuracy: 0.8015\n"
          ]
        },
        {
          "output_type": "execute_result",
          "data": {
            "text/plain": [
              "[0.9380587935447693, 0.8014705777168274]"
            ]
          },
          "metadata": {},
          "execution_count": 61
        }
      ]
    },
    {
      "cell_type": "code",
      "metadata": {
        "colab": {
          "base_uri": "https://localhost:8080/"
        },
        "id": "HT7gklJwmysH",
        "outputId": "f8b9c7bf-4ad4-4450-a17f-6c162ce060f9"
      },
      "source": [
        "predictions = model_Xception_2.predict(test_imgs, steps=len(test_df), verbose=1)\n",
        "y_pred = np.argmax(predictions, axis=1)"
      ],
      "execution_count": null,
      "outputs": [
        {
          "output_type": "stream",
          "name": "stdout",
          "text": [
            "272/272 [==============================] - 2s 7ms/step\n"
          ]
        }
      ]
    },
    {
      "cell_type": "code",
      "metadata": {
        "id": "IMfdRS_Vm2Jm"
      },
      "source": [
        "y_true = test_df_1['disease'].tolist()\n",
        "\n",
        "from sklearn.metrics import classification_report, f1_score"
      ],
      "execution_count": null,
      "outputs": []
    },
    {
      "cell_type": "code",
      "metadata": {
        "colab": {
          "base_uri": "https://localhost:8080/"
        },
        "id": "58QJQIu0m4pN",
        "outputId": "8db84ea3-871f-4610-f644-bbccbeb80591"
      },
      "source": [
        "f1_score(y_true, y_pred, average='weighted')"
      ],
      "execution_count": null,
      "outputs": [
        {
          "output_type": "execute_result",
          "data": {
            "text/plain": [
              "0.9320680291308412"
            ]
          },
          "metadata": {},
          "execution_count": 64
        }
      ]
    },
    {
      "cell_type": "code",
      "metadata": {
        "colab": {
          "base_uri": "https://localhost:8080/"
        },
        "id": "JD6xWK22m7WF",
        "outputId": "8782d0ec-4cb6-443a-86a3-cd3671cc7149"
      },
      "source": [
        "plot_labels = ['N','C','A','O']\n",
        "report = classification_report(y_true, y_pred, target_names=plot_labels)\n",
        "\n",
        "print('report')\n",
        "print(report)"
      ],
      "execution_count": null,
      "outputs": [
        {
          "output_type": "stream",
          "name": "stdout",
          "text": [
            "report\n",
            "              precision    recall  f1-score   support\n",
            "\n",
            "           N       0.91      0.97      0.94       120\n",
            "           C       0.93      0.99      0.96        79\n",
            "           A       1.00      0.85      0.92        53\n",
            "           O       1.00      0.70      0.82        20\n",
            "\n",
            "    accuracy                           0.93       272\n",
            "   macro avg       0.96      0.88      0.91       272\n",
            "weighted avg       0.94      0.93      0.93       272\n",
            "\n"
          ]
        }
      ]
    },
    {
      "cell_type": "markdown",
      "metadata": {
        "id": "tK0ty1f-0DcB"
      },
      "source": [
        "## Save the model"
      ]
    },
    {
      "cell_type": "code",
      "metadata": {
        "colab": {
          "base_uri": "https://localhost:8080/"
        },
        "id": "JNIirEBO0Cyb",
        "outputId": "be3d2b32-79fa-465d-cde7-910e700daf9e"
      },
      "source": [
        "model_Xception.summary()"
      ],
      "execution_count": null,
      "outputs": [
        {
          "output_type": "stream",
          "name": "stdout",
          "text": [
            "Model: \"sequential\"\n",
            "_________________________________________________________________\n",
            "Layer (type)                 Output Shape              Param #   \n",
            "=================================================================\n",
            "xception (Functional)        (None, 7, 7, 2048)        20861480  \n",
            "_________________________________________________________________\n",
            "global_average_pooling2d (Gl (None, 2048)              0         \n",
            "_________________________________________________________________\n",
            "dense (Dense)                (None, 4)                 8196      \n",
            "=================================================================\n",
            "Total params: 20,869,676\n",
            "Trainable params: 20,815,148\n",
            "Non-trainable params: 54,528\n",
            "_________________________________________________________________\n"
          ]
        }
      ]
    },
    {
      "cell_type": "markdown",
      "metadata": {
        "id": "gm4wPkmzq_aw"
      },
      "source": [
        "## Build the model (EfficientNetB0)"
      ]
    },
    {
      "cell_type": "code",
      "metadata": {
        "colab": {
          "base_uri": "https://localhost:8080/"
        },
        "id": "e6cRUfK8rGtf",
        "outputId": "1a7a4731-7aee-427e-8630-99e3f580515e"
      },
      "source": [
        "!pip install -q efficientnet >> /dev/null\n",
        "import efficientnet.tfkeras as efn\n",
        "\n",
        "def build_model(img_height, img_width, n):\n",
        "    inp = Input(shape=(img_height,img_width,n))\n",
        "    efnet = efn.EfficientNetB0(\n",
        "        input_shape=(img_height,img_width,n),\n",
        "        weights='imagenet',\n",
        "        include_top=False\n",
        "    )\n",
        "    x = efnet(inp)\n",
        "    x = GlobalAveragePooling2D()(x)\n",
        "    x = Dense(4, activation='softmax')(x)\n",
        "    model = tf.keras.Model(inputs=inp, outputs=x)\n",
        "    opt = tf.keras.optimizers.Adam(learning_rate=0.000003)\n",
        "    loss = tf.keras.losses.CategoricalCrossentropy(label_smoothing=0.01)\n",
        "    model.compile(optimizer=opt, loss=loss, metrics=['accuracy'])\n",
        "    return model\n",
        "\n",
        "model_Efficient = build_model(IMG_HEIGHT, IMG_WIDTH, 3)\n",
        "model_Efficient.summary()"
      ],
      "execution_count": null,
      "outputs": [
        {
          "output_type": "stream",
          "name": "stdout",
          "text": [
            "Downloading data from https://github.com/Callidior/keras-applications/releases/download/efficientnet/efficientnet-b0_weights_tf_dim_ordering_tf_kernels_autoaugment_notop.h5\n",
            "16809984/16804768 [==============================] - 1s 0us/step\n",
            "16818176/16804768 [==============================] - 1s 0us/step\n",
            "Model: \"model\"\n",
            "_________________________________________________________________\n",
            "Layer (type)                 Output Shape              Param #   \n",
            "=================================================================\n",
            "input_2 (InputLayer)         [(None, 224, 224, 3)]     0         \n",
            "_________________________________________________________________\n",
            "efficientnet-b0 (Functional) (None, 7, 7, 1280)        4049564   \n",
            "_________________________________________________________________\n",
            "global_average_pooling2d_1 ( (None, 1280)              0         \n",
            "_________________________________________________________________\n",
            "dense_1 (Dense)              (None, 4)                 5124      \n",
            "=================================================================\n",
            "Total params: 4,054,688\n",
            "Trainable params: 4,012,672\n",
            "Non-trainable params: 42,016\n",
            "_________________________________________________________________\n"
          ]
        }
      ]
    },
    {
      "cell_type": "code",
      "metadata": {
        "id": "cv5kGRzlraHG"
      },
      "source": [
        "generator = ImageDataGenerator(horizontal_flip=True,\n",
        "                               height_shift_range=0.1,\n",
        "                               fill_mode='reflect')\n",
        "\n",
        "\n",
        "\n",
        "es_callback = tf.keras.callbacks.EarlyStopping(patience=20,\n",
        "                                               verbose=1,\n",
        "                                               restore_best_weights=True)\n",
        "reduce_lr = tf.keras.callbacks.ReduceLROnPlateau(factor=0.1, patience=10, verbose=1)"
      ],
      "execution_count": null,
      "outputs": []
    },
    {
      "cell_type": "code",
      "metadata": {
        "id": "bx-ymt3ZruEg"
      },
      "source": [
        "history = model_Efficient.fit(generator.flow(train_imgs,\n",
        "                                   train_df,\n",
        "                                   batch_size=BATCH_SIZE),\n",
        "                    epochs=1000,\n",
        "                    steps_per_epoch=len(train_imgs)/BATCH_SIZE,\n",
        "                    callbacks=[es_callback, reduce_lr],\n",
        "                    validation_data=(val_imgs, val_df))\n",
        "\n",
        "\n",
        "pd.DataFrame(history.history)[['accuracy', 'val_accuracy']].plot()\n",
        "pd.DataFrame(history.history)[['loss', 'val_loss']].plot()\n",
        "plt.show()"
      ],
      "execution_count": null,
      "outputs": []
    },
    {
      "cell_type": "code",
      "metadata": {
        "id": "wpBzMoSQrwax"
      },
      "source": [
        "model_Efficient.evaluate(test_imgs, test_df)"
      ],
      "execution_count": null,
      "outputs": []
    },
    {
      "cell_type": "code",
      "metadata": {
        "id": "W5rHpUVGdqKC"
      },
      "source": [
        "predictions = model_Efficient.predict(test_imgs, steps=len(test_df), verbose=1)\n",
        "y_pred = np.argmax(predictions, axis=1)\n",
        "\n",
        "y_true = test_df_1['disease'].tolist()\n",
        "\n",
        "from sklearn.metrics import classification_report, f1_score\n",
        "\n",
        "f1_score(y_true, y_pred, average='weighted')"
      ],
      "execution_count": null,
      "outputs": []
    },
    {
      "cell_type": "code",
      "metadata": {
        "id": "EmLaND_8EUFL"
      },
      "source": [
        "#300 B3 83.5\n",
        "#400 B0 72.8\n",
        "#400 B0 4 class 48 batch size -- 80.8 acc\n",
        "#400 B0 4 class 8 batch size -- 0.845588207244873 acc 0.6309579109532658 f1"
      ],
      "execution_count": null,
      "outputs": []
    },
    {
      "cell_type": "markdown",
      "metadata": {
        "id": "2uuD6qkLtFm3"
      },
      "source": [
        "## Build model(resNet50)"
      ]
    },
    {
      "cell_type": "code",
      "metadata": {
        "id": "yQhMOavQtKhE"
      },
      "source": [
        "def create_model():\n",
        "  pretrained_model = tf.keras.applications.ResNet50(input_shape=[IMG_HEIGHT, IMG_WIDTH, 3], include_top=False)\n",
        "  pretrained_model.trainable = True\n",
        "  model = tf.keras.Sequential([\n",
        "    pretrained_model,\n",
        "    tf.keras.layers.GlobalAveragePooling2D(),\n",
        "    tf.keras.layers.Dense(4, activation='softmax')\n",
        "  ])\n",
        "  model.compile(\n",
        "    optimizer='adam',\n",
        "    loss = 'categorical_crossentropy',\n",
        "    metrics=['accuracy']\n",
        "  )\n",
        "  return model\n",
        "\n",
        "# with tpu_strategy.scope(): # creating the model in the TPUStrategy scope means we will train the model on the TPU\n",
        "model_resnet50 = create_model()\n",
        "model_resnet50.summary()"
      ],
      "execution_count": null,
      "outputs": []
    },
    {
      "cell_type": "code",
      "metadata": {
        "id": "ChRwDMX0tLwZ"
      },
      "source": [
        "generator = ImageDataGenerator(horizontal_flip=True,\n",
        "                               height_shift_range=0.1,\n",
        "                               fill_mode='reflect')\n",
        "\n",
        "\n",
        "\n",
        "es_callback = tf.keras.callbacks.EarlyStopping(patience=20,\n",
        "                                               verbose=1,\n",
        "                                               restore_best_weights=True)\n",
        "reduce_lr = tf.keras.callbacks.ReduceLROnPlateau(factor=0.1, patience=10, verbose=1)"
      ],
      "execution_count": null,
      "outputs": []
    },
    {
      "cell_type": "code",
      "metadata": {
        "id": "1uptB8CiqHHC"
      },
      "source": [
        "history = model_resnet50.fit(generator.flow(train_imgs,\n",
        "                                   train_df,\n",
        "                                   batch_size=BATCH_SIZE),\n",
        "                    epochs=EPOCHS,\n",
        "                    steps_per_epoch=len(train_imgs)/BATCH_SIZE,\n",
        "                    callbacks=[es_callback, reduce_lr],\n",
        "                    validation_data=(val_imgs, val_df))\n",
        "\n",
        "\n",
        "pd.DataFrame(history.history)[['accuracy', 'val_accuracy']].plot()\n",
        "pd.DataFrame(history.history)[['loss', 'val_loss']].plot()\n",
        "plt.show()"
      ],
      "execution_count": null,
      "outputs": []
    },
    {
      "cell_type": "code",
      "metadata": {
        "id": "pehHMzJNqQWd"
      },
      "source": [
        "model_resnet50.evaluate(test_imgs, test_df)"
      ],
      "execution_count": null,
      "outputs": []
    },
    {
      "cell_type": "code",
      "metadata": {
        "id": "lYFz7ep2ox1j"
      },
      "source": [
        "predictions = model_resnet50.predict(test_imgs, steps=len(test_df), verbose=1)\n",
        "y_pred = np.argmax(predictions, axis=1)\n",
        "\n",
        "y_true = test_df_1['disease'].tolist()\n",
        "\n",
        "from sklearn.metrics import classification_report, f1_score\n",
        "\n",
        "f1_score(y_true, y_pred, average='weighted')"
      ],
      "execution_count": null,
      "outputs": []
    },
    {
      "cell_type": "code",
      "metadata": {
        "id": "UPpTIt7Mo1vh"
      },
      "source": [],
      "execution_count": null,
      "outputs": []
    }
  ]
}